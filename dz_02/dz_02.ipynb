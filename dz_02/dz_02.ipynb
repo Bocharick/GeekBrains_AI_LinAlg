{
 "cells": [
  {
   "cell_type": "code",
   "execution_count": 1,
   "metadata": {},
   "outputs": [],
   "source": [
    "import numpy as np\n",
    "from numpy.linalg import norm"
   ]
  },
  {
   "cell_type": "markdown",
   "metadata": {},
   "source": [
    "# Из методички 2"
   ]
  },
  {
   "cell_type": "markdown",
   "metadata": {},
   "source": [
    "### 1. Найти скалярное произведение векторов $x, y \\in \\mathbb{R} :$  \n",
    "a) $x=(0, -3, 6), y=(-4, 7, 9)$   \n",
    "б) $x=(7, -4, 0, 1), y=(-3, 1, 11, 2)$"
   ]
  },
  {
   "cell_type": "code",
   "execution_count": 2,
   "metadata": {},
   "outputs": [],
   "source": [
    "x = np.array([0, -3, 6])\n",
    "y = np.array([-4, 7, 9])\n",
    "print(\"a * b =\", np.dot(x, y))"
   ]
  },
  {
   "cell_type": "code",
   "execution_count": 3,
   "metadata": {},
   "outputs": [
    {
     "name": "stdout",
     "output_type": "stream",
     "text": [
      "a * b = -23\n"
     ]
    }
   ],
   "source": [
    "x = np.array([7, -4, 0, 1])\n",
    "y = np.array([-3, 1, 11, 2])\n",
    "print(\"a * b =\", np.dot(x, y))"
   ]
  },
  {
   "cell_type": "markdown",
   "metadata": {},
   "source": [
    "### 2. Найти нормы векторов  (4, 2, 4)  и  (12, 3, 4)  и угол между ними."
   ]
  },
  {
   "cell_type": "code",
   "execution_count": 4,
   "metadata": {},
   "outputs": [
    {
     "name": "stdout",
     "output_type": "stream",
     "text": [
      "l1 a: 10.0\n",
      "l2 a: 6.0\n",
      "l1 b: 19.0\n",
      "l2 b: 13.0\n",
      "cos(ab): 0.897\n",
      "angle(ab): 0.457\n"
     ]
    }
   ],
   "source": [
    "a = np.array([4, 2, 4])\n",
    "b = np.array([12, 3, 4])\n",
    "\n",
    "print('l1 a:',norm(a, ord=1))\n",
    "print('l2 a:',norm(a, ord=2))\n",
    "\n",
    "print('l1 b:',norm(b, ord=1))\n",
    "print('l2 b:',norm(b, ord=2))\n",
    "\n",
    "cos_phi = np.dot(a, b) / norm(a) / norm(b)\n",
    "print('cos(ab):', '%.3f' % cos_phi)\n",
    "print('angle(ab):', '%.3f' % np.arccos(cos_phi))"
   ]
  },
  {
   "cell_type": "markdown",
   "metadata": {},
   "source": [
    "### 3. Будет ли линейное пространство евклидовым, если за скалярное произведение принять:\n",
    "а) произведение длин векторов;   \n",
    "б) утроенное обычное скалярное произведение векторов?"
   ]
  },
  {
   "cell_type": "markdown",
   "metadata": {},
   "source": [
    "### 4. Какие из нижеперечисленных векторов образуют ортонормированный базис в линейном пространстве $\\mathbb{R}^{3} :$  \n",
    "a) $(1, 0, 0), (0, 0, 1)$   \n",
    "б) $(1 / \\sqrt{2}, -1 / \\sqrt{2}, 0), (1 / \\sqrt{2}, 1 / \\sqrt{2}, 0),(0, 0, 1) ;$   \n",
    "B) $(1 / 2, -1 / 2, 0), (0, 1 / 2, 1 / 2), (0, 0, 1) ;$   \n",
    "r) $(1, 0, 0), (0, 1, 0), (0, 0, 1) ?$"
   ]
  },
  {
   "cell_type": "markdown",
   "metadata": {},
   "source": [
    "# Из методички 3"
   ]
  },
  {
   "cell_type": "markdown",
   "metadata": {},
   "source": [
    "### 1. Установить, какие произведения матриц  AB  и  BA  определены, и найти размерности полученных матриц:  \n",
    "  \n",
    "а) A — матрица 4×2, B — матрица 4×2;  \n",
    "б) A — матрица 2×5, B — матрица 5×3;  \n",
    "в) A — матрица 8×3, B — матрица 3×8;  \n",
    "г) A — квадратная матрица 4×4, B — квадратная матрица 4×4."
   ]
  },
  {
   "cell_type": "code",
   "execution_count": 5,
   "metadata": {},
   "outputs": [],
   "source": [
    "def get_matrix_with_size(dim1, dim2):\n",
    "    return np.empty([dim1, dim2])"
   ]
  },
  {
   "cell_type": "markdown",
   "metadata": {},
   "source": [
    "а) A — матрица 4×2, B — матрица 4×2;  "
   ]
  },
  {
   "cell_type": "code",
   "execution_count": 6,
   "metadata": {},
   "outputs": [
    {
     "ename": "ValueError",
     "evalue": "shapes (4,2) and (4,2) not aligned: 2 (dim 1) != 4 (dim 0)",
     "output_type": "error",
     "traceback": [
      "\u001b[1;31m---------------------------------------------------------------------------\u001b[0m",
      "\u001b[1;31mValueError\u001b[0m                                Traceback (most recent call last)",
      "\u001b[1;32m<ipython-input-6-605d96f1e800>\u001b[0m in \u001b[0;36m<module>\u001b[1;34m\u001b[0m\n\u001b[0;32m      1\u001b[0m \u001b[0ma\u001b[0m \u001b[1;33m=\u001b[0m \u001b[0mget_matrix_with_size\u001b[0m\u001b[1;33m(\u001b[0m\u001b[1;36m4\u001b[0m\u001b[1;33m,\u001b[0m\u001b[1;36m2\u001b[0m\u001b[1;33m)\u001b[0m\u001b[1;33m\u001b[0m\u001b[1;33m\u001b[0m\u001b[0m\n\u001b[0;32m      2\u001b[0m \u001b[0mb\u001b[0m \u001b[1;33m=\u001b[0m \u001b[0mget_matrix_with_size\u001b[0m\u001b[1;33m(\u001b[0m\u001b[1;36m4\u001b[0m\u001b[1;33m,\u001b[0m\u001b[1;36m2\u001b[0m\u001b[1;33m)\u001b[0m\u001b[1;33m\u001b[0m\u001b[1;33m\u001b[0m\u001b[0m\n\u001b[1;32m----> 3\u001b[1;33m \u001b[0ma\u001b[0m \u001b[1;33m@\u001b[0m \u001b[0mb\u001b[0m\u001b[1;33m\u001b[0m\u001b[1;33m\u001b[0m\u001b[0m\n\u001b[0m",
      "\u001b[1;31mValueError\u001b[0m: shapes (4,2) and (4,2) not aligned: 2 (dim 1) != 4 (dim 0)"
     ]
    }
   ],
   "source": [
    "a = get_matrix_with_size(4,2)\n",
    "b = get_matrix_with_size(4,2)\n",
    "a @ b"
   ]
  },
  {
   "cell_type": "markdown",
   "metadata": {},
   "source": [
    "a) произведение матриц не определено"
   ]
  },
  {
   "cell_type": "markdown",
   "metadata": {},
   "source": [
    "б) A — матрица 2×5, B — матрица 5×3; "
   ]
  },
  {
   "cell_type": "code",
   "execution_count": 7,
   "metadata": {},
   "outputs": [
    {
     "data": {
      "text/plain": [
       "array([[0., 0., 0.],\n",
       "       [0., 0., 0.]])"
      ]
     },
     "execution_count": 7,
     "metadata": {},
     "output_type": "execute_result"
    }
   ],
   "source": [
    "a = get_matrix_with_size(2,5)\n",
    "b = get_matrix_with_size(5,3)\n",
    "a @ b"
   ]
  },
  {
   "cell_type": "code",
   "execution_count": 8,
   "metadata": {},
   "outputs": [
    {
     "data": {
      "text/plain": [
       "(2, 3)"
      ]
     },
     "execution_count": 8,
     "metadata": {},
     "output_type": "execute_result"
    }
   ],
   "source": [
    "(a @ b).shape"
   ]
  },
  {
   "cell_type": "markdown",
   "metadata": {},
   "source": [
    "б) произведение матриц определено, размерность полученной матрицы 2,3"
   ]
  },
  {
   "cell_type": "markdown",
   "metadata": {},
   "source": [
    "в) A — матрица 8×3, B — матрица 3×8;  "
   ]
  },
  {
   "cell_type": "code",
   "execution_count": 9,
   "metadata": {},
   "outputs": [
    {
     "data": {
      "text/plain": [
       "array([[0., 0., 0., 0., 0., 0., 0., 0.],\n",
       "       [0., 0., 0., 0., 0., 0., 0., 0.],\n",
       "       [0., 0., 0., 0., 0., 0., 0., 0.],\n",
       "       [0., 0., 0., 0., 0., 0., 0., 0.],\n",
       "       [0., 0., 0., 0., 0., 0., 0., 0.],\n",
       "       [0., 0., 0., 0., 0., 0., 0., 0.],\n",
       "       [0., 0., 0., 0., 0., 0., 0., 0.],\n",
       "       [0., 0., 0., 0., 0., 0., 0., 0.]])"
      ]
     },
     "execution_count": 9,
     "metadata": {},
     "output_type": "execute_result"
    }
   ],
   "source": [
    "a = get_matrix_with_size(8,3)\n",
    "b = get_matrix_with_size(3,8)\n",
    "a @ b"
   ]
  },
  {
   "cell_type": "code",
   "execution_count": 10,
   "metadata": {},
   "outputs": [
    {
     "data": {
      "text/plain": [
       "(8, 8)"
      ]
     },
     "execution_count": 10,
     "metadata": {},
     "output_type": "execute_result"
    }
   ],
   "source": [
    "(a @ b).shape"
   ]
  },
  {
   "cell_type": "markdown",
   "metadata": {},
   "source": [
    "в) произведение матриц определено, размерность полученной матрицы 8,8"
   ]
  },
  {
   "cell_type": "markdown",
   "metadata": {},
   "source": [
    "г) A — квадратная матрица 4×4, B — квадратная матрица 4×4."
   ]
  },
  {
   "cell_type": "code",
   "execution_count": 11,
   "metadata": {},
   "outputs": [
    {
     "data": {
      "text/plain": [
       "array([[0., 0., 0., 0.],\n",
       "       [0., 0., 0., 0.],\n",
       "       [0., 0., 0., 0.],\n",
       "       [0., 0., 0., 0.]])"
      ]
     },
     "execution_count": 11,
     "metadata": {},
     "output_type": "execute_result"
    }
   ],
   "source": [
    "a = get_matrix_with_size(4,4)\n",
    "b = get_matrix_with_size(4,4)\n",
    "a @ b"
   ]
  },
  {
   "cell_type": "markdown",
   "metadata": {},
   "source": [
    "г) произведение матриц определено, размерность полученной матрицы 4,4"
   ]
  },
  {
   "cell_type": "markdown",
   "metadata": {},
   "source": [
    "### 2. Найти сумму и произведение матриц  \n",
    "$A=\\left(\\begin{array}{cc}{1} & {-2} \\\\ {3} & {0}\\end{array}\\right)$ и $B=\\left(\\begin{array}{cc}{4} & {-1} \\\\ {0} & {5}\\end{array}\\right)$"
   ]
  },
  {
   "cell_type": "code",
   "execution_count": 12,
   "metadata": {},
   "outputs": [],
   "source": [
    "a = np.array([[1,-2],[3,0]])\n",
    "b = np.array([[4,-1],[0,5]])"
   ]
  },
  {
   "cell_type": "code",
   "execution_count": 13,
   "metadata": {},
   "outputs": [
    {
     "name": "stdout",
     "output_type": "stream",
     "text": [
      "sum(AB):\n",
      " [[ 5 -3]\n",
      " [ 3  5]]\n"
     ]
    }
   ],
   "source": [
    "print(\"sum(AB):\\n\", a + b)"
   ]
  },
  {
   "cell_type": "code",
   "execution_count": 14,
   "metadata": {},
   "outputs": [
    {
     "name": "stdout",
     "output_type": "stream",
     "text": [
      "dot(AB):\n",
      " [[  4 -11]\n",
      " [ 12  -3]]\n"
     ]
    }
   ],
   "source": [
    "print(\"dot(AB):\\n\", a @ b)"
   ]
  },
  {
   "cell_type": "markdown",
   "metadata": {},
   "source": [
    "### 3. Из закономерностей сложения и умножения матриц на число можно сделать вывод, что матрицы одного размера образуют линейное пространство.   \n",
    "Вычислить линейную комбинацию $3 A-2 B+4 C$ для матриц $A=\\left(\\begin{array}{cc}{1} & {7} \\\\ {3} & {-6}\\end{array}\\right), B=\\left(\\begin{array}{cc}{0} & {5} \\\\ {2} & {-1}\\end{array}\\right), C=\\left(\\begin{array}{cc}{2} & {-4} \\\\ {1} & {1}\\end{array}\\right)$"
   ]
  },
  {
   "cell_type": "code",
   "execution_count": 15,
   "metadata": {},
   "outputs": [],
   "source": [
    "a = np.array([[1,7],[3,-6]])\n",
    "b = np.array([[0,5],[2,-1]])\n",
    "c = np.array([[2,-4],[1,1]])"
   ]
  },
  {
   "cell_type": "code",
   "execution_count": 16,
   "metadata": {},
   "outputs": [
    {
     "data": {
      "text/plain": [
       "array([[ 11,  -5],\n",
       "       [  9, -12]])"
      ]
     },
     "execution_count": 16,
     "metadata": {},
     "output_type": "execute_result"
    }
   ],
   "source": [
    "3*a - 2*b + 4*c"
   ]
  },
  {
   "cell_type": "markdown",
   "metadata": {},
   "source": [
    "### 4. Дана матрица A. Вычислить $AA^{T}$ и $A^{T}A$  \n",
    "$A=\\left(\\begin{array}{cc}{4} & {1} \\\\ {5} & {-2} \\\\ {2} & {3}\\end{array}\\right)$"
   ]
  },
  {
   "cell_type": "code",
   "execution_count": 17,
   "metadata": {},
   "outputs": [],
   "source": [
    "a = np.array([[4,1],[5,-2],[2,3]])"
   ]
  },
  {
   "cell_type": "code",
   "execution_count": 18,
   "metadata": {},
   "outputs": [
    {
     "data": {
      "text/plain": [
       "array([[17, 18, 11],\n",
       "       [18, 29,  4],\n",
       "       [11,  4, 13]])"
      ]
     },
     "execution_count": 18,
     "metadata": {},
     "output_type": "execute_result"
    }
   ],
   "source": [
    "a@a.T"
   ]
  },
  {
   "cell_type": "code",
   "execution_count": 19,
   "metadata": {},
   "outputs": [
    {
     "data": {
      "text/plain": [
       "array([[45,  0],\n",
       "       [ 0, 14]])"
      ]
     },
     "execution_count": 19,
     "metadata": {},
     "output_type": "execute_result"
    }
   ],
   "source": [
    "a.T@a"
   ]
  },
  {
   "cell_type": "markdown",
   "metadata": {},
   "source": [
    "### 5*. Написать на Python функцию для перемножения двух произвольных матриц, не используя NumPy."
   ]
  },
  {
   "cell_type": "code",
   "execution_count": 20,
   "metadata": {},
   "outputs": [],
   "source": [
    "# def my_dot(vec_1, vec_2):\n",
    "#     if vec_1.shape[0] == vec_2.shape[0]:\n",
    "#         dot_ = 0\n",
    "#         for i in range(len(vec_1)):\n",
    "#             # print(i, vec_1[i], vec_2[i])\n",
    "#             dot_ += vec_1[i] * vec_2[i]\n",
    "#         return dot_\n",
    "#     else:\n",
    "#         print(\"Wrong dimension sizes. Can't dot\")\n",
    "#         return"
   ]
  },
  {
   "cell_type": "code",
   "execution_count": 21,
   "metadata": {},
   "outputs": [],
   "source": [
    "def my_dot(vec_1, vec_2):\n",
    "    if len(vec_1) == len(vec_2):\n",
    "        dot_ = 0\n",
    "        for i in range(len(vec_1)):\n",
    "            # print(i, vec_1[i], vec_2[i])\n",
    "            dot_ += vec_1[i] * vec_2[i]\n",
    "        return dot_\n",
    "    else:\n",
    "        print(\"Wrong dimension sizes. Can't dot\")\n",
    "        return"
   ]
  },
  {
   "cell_type": "code",
   "execution_count": 22,
   "metadata": {},
   "outputs": [],
   "source": [
    "# def my_matmul(mtrx_1, mtrx_2):\n",
    "#     if mtrx_1.shape[1] == mtrx_2.shape[0]:\n",
    "#         # mul here\n",
    "#         mul_ = np.zeros([mtrx_1.shape[0], mtrx_2.shape[1]])\n",
    "#         mtrx_2_T = mtrx_2.T\n",
    "#         for row in range(mtrx_1.shape[0]):\n",
    "#             for col in range(mtrx_2_T.shape[0]):\n",
    "#                 mul_[row][col] = my_dot(mtrx_1[row], mtrx_2_T[col])\n",
    "#         return mul_\n",
    "#     else:\n",
    "#         print(\"Wrong dimensions. Can't matmul\")\n",
    "#         return"
   ]
  },
  {
   "cell_type": "code",
   "execution_count": 23,
   "metadata": {},
   "outputs": [],
   "source": [
    "def my_matmul(mtrx_1, mtrx_2):\n",
    "    if len(mtrx_1[0]) == len(mtrx_2):\n",
    "        # mul here\n",
    "        mul_ = [[i for i in range(len(mtrx_2[0]))] for j in range(len(mtrx_1))]\n",
    "        for row in range(len(mtrx_1)):\n",
    "            for col in range(len(mtrx_2[0])):\n",
    "                mul_[row][col] = my_dot(mtrx_1[row], [row_[col] for row_ in mtrx_2])\n",
    "        return mul_\n",
    "    else:\n",
    "        print(\"Wrong dimensions. Can't matmul\")\n",
    "        return"
   ]
  },
  {
   "cell_type": "code",
   "execution_count": 24,
   "metadata": {},
   "outputs": [],
   "source": [
    "a = [[1,2],[3,4],[5,6]]\n",
    "b = [[7,8,9,10],[11,12,13,14]]\n",
    "a_np = np.array(a)\n",
    "b_np = np.array(b)"
   ]
  },
  {
   "cell_type": "code",
   "execution_count": 25,
   "metadata": {},
   "outputs": [
    {
     "data": {
      "text/plain": [
       "[[1, 2], [3, 4], [5, 6]]"
      ]
     },
     "execution_count": 25,
     "metadata": {},
     "output_type": "execute_result"
    }
   ],
   "source": [
    "a"
   ]
  },
  {
   "cell_type": "code",
   "execution_count": 26,
   "metadata": {},
   "outputs": [
    {
     "data": {
      "text/plain": [
       "[[7, 8, 9, 10], [11, 12, 13, 14]]"
      ]
     },
     "execution_count": 26,
     "metadata": {},
     "output_type": "execute_result"
    }
   ],
   "source": [
    "b"
   ]
  },
  {
   "cell_type": "code",
   "execution_count": 27,
   "metadata": {},
   "outputs": [
    {
     "name": "stdout",
     "output_type": "stream",
     "text": [
      "[29, 32, 35, 38]\n",
      "[65, 72, 79, 86]\n",
      "[101, 112, 123, 134]\n"
     ]
    }
   ],
   "source": [
    "print(*my_matmul(a,b), sep=\"\\n\")"
   ]
  },
  {
   "cell_type": "code",
   "execution_count": 28,
   "metadata": {},
   "outputs": [
    {
     "data": {
      "text/plain": [
       "array([[ 29,  32,  35,  38],\n",
       "       [ 65,  72,  79,  86],\n",
       "       [101, 112, 123, 134]])"
      ]
     },
     "execution_count": 28,
     "metadata": {},
     "output_type": "execute_result"
    }
   ],
   "source": [
    "a_np @ b_np"
   ]
  },
  {
   "cell_type": "code",
   "execution_count": 29,
   "metadata": {},
   "outputs": [
    {
     "data": {
      "text/plain": [
       "array([[ True,  True,  True,  True],\n",
       "       [ True,  True,  True,  True],\n",
       "       [ True,  True,  True,  True]])"
      ]
     },
     "execution_count": 29,
     "metadata": {},
     "output_type": "execute_result"
    }
   ],
   "source": [
    "a_np @ b_np == my_matmul(a,b)"
   ]
  },
  {
   "cell_type": "code",
   "execution_count": null,
   "metadata": {},
   "outputs": [],
   "source": []
  },
  {
   "cell_type": "code",
   "execution_count": null,
   "metadata": {},
   "outputs": [],
   "source": []
  }
 ],
 "metadata": {
  "kernelspec": {
   "display_name": "Python 3",
   "language": "python",
   "name": "python3"
  },
  "language_info": {
   "codemirror_mode": {
    "name": "ipython",
    "version": 3
   },
   "file_extension": ".py",
   "mimetype": "text/x-python",
   "name": "python",
   "nbconvert_exporter": "python",
   "pygments_lexer": "ipython3",
   "version": "3.7.1"
  }
 },
 "nbformat": 4,
 "nbformat_minor": 2
}
